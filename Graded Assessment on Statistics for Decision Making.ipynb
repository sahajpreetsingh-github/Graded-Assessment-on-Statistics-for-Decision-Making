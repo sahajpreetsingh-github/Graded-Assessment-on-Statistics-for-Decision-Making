{
 "cells": [
  {
   "cell_type": "code",
   "execution_count": 19,
   "id": "0962b4c7",
   "metadata": {},
   "outputs": [
    {
     "name": "stdout",
     "output_type": "stream",
     "text": [
      "Requirement already satisfied: pandas in c:\\users\\sahaj\\anaconda3\\lib\\site-packages (2.0.3)Note: you may need to restart the kernel to use updated packages.\n",
      "\n",
      "Requirement already satisfied: numpy in c:\\users\\sahaj\\anaconda3\\lib\\site-packages (1.24.3)\n",
      "Requirement already satisfied: matplotlib in c:\\users\\sahaj\\anaconda3\\lib\\site-packages (3.7.2)\n",
      "Requirement already satisfied: seaborn in c:\\users\\sahaj\\anaconda3\\lib\\site-packages (0.12.2)\n",
      "Requirement already satisfied: scipy in c:\\users\\sahaj\\anaconda3\\lib\\site-packages (1.11.1)\n",
      "Requirement already satisfied: python-dateutil>=2.8.2 in c:\\users\\sahaj\\anaconda3\\lib\\site-packages (from pandas) (2.8.2)\n",
      "Requirement already satisfied: pytz>=2020.1 in c:\\users\\sahaj\\anaconda3\\lib\\site-packages (from pandas) (2023.3.post1)\n",
      "Requirement already satisfied: tzdata>=2022.1 in c:\\users\\sahaj\\anaconda3\\lib\\site-packages (from pandas) (2023.3)\n",
      "Requirement already satisfied: contourpy>=1.0.1 in c:\\users\\sahaj\\anaconda3\\lib\\site-packages (from matplotlib) (1.0.5)\n",
      "Requirement already satisfied: cycler>=0.10 in c:\\users\\sahaj\\anaconda3\\lib\\site-packages (from matplotlib) (0.11.0)\n",
      "Requirement already satisfied: fonttools>=4.22.0 in c:\\users\\sahaj\\anaconda3\\lib\\site-packages (from matplotlib) (4.25.0)\n",
      "Requirement already satisfied: kiwisolver>=1.0.1 in c:\\users\\sahaj\\anaconda3\\lib\\site-packages (from matplotlib) (1.4.4)\n",
      "Requirement already satisfied: packaging>=20.0 in c:\\users\\sahaj\\anaconda3\\lib\\site-packages (from matplotlib) (23.1)\n",
      "Requirement already satisfied: pillow>=6.2.0 in c:\\users\\sahaj\\anaconda3\\lib\\site-packages (from matplotlib) (10.3.0)\n",
      "Requirement already satisfied: pyparsing<3.1,>=2.3.1 in c:\\users\\sahaj\\anaconda3\\lib\\site-packages (from matplotlib) (3.0.9)\n",
      "Requirement already satisfied: six>=1.5 in c:\\users\\sahaj\\anaconda3\\lib\\site-packages (from python-dateutil>=2.8.2->pandas) (1.16.0)\n"
     ]
    }
   ],
   "source": [
    "pip install pandas numpy matplotlib seaborn scipy"
   ]
  },
  {
   "cell_type": "code",
   "execution_count": 18,
   "id": "4ec2d0b4",
   "metadata": {},
   "outputs": [
    {
     "name": "stdout",
     "output_type": "stream",
     "text": [
      "       Suburb           Address  Rooms Type      Price Method SellerG  \\\n",
      "0  Abbotsford      85 Turner St      2    h  1480000.0      S  Biggin   \n",
      "1  Abbotsford   25 Bloomburg St      2    h  1035000.0      S  Biggin   \n",
      "2  Abbotsford      5 Charles St      3    h  1465000.0     SP  Biggin   \n",
      "3  Abbotsford  40 Federation La      3    h   850000.0     PI  Biggin   \n",
      "4  Abbotsford       55a Park St      4    h  1600000.0     VB  Nelson   \n",
      "\n",
      "        Date  Distance  Postcode  ...  Bathroom  Car  Landsize  BuildingArea  \\\n",
      "0  3/12/2016       2.5    3067.0  ...       1.0  1.0     202.0           NaN   \n",
      "1  4/02/2016       2.5    3067.0  ...       1.0  0.0     156.0          79.0   \n",
      "2  4/03/2017       2.5    3067.0  ...       2.0  0.0     134.0         150.0   \n",
      "3  4/03/2017       2.5    3067.0  ...       2.0  1.0      94.0           NaN   \n",
      "4  4/06/2016       2.5    3067.0  ...       1.0  2.0     120.0         142.0   \n",
      "\n",
      "   YearBuilt  CouncilArea Lattitude  Longtitude             Regionname  \\\n",
      "0        NaN        Yarra  -37.7996    144.9984  Northern Metropolitan   \n",
      "1     1900.0        Yarra  -37.8079    144.9934  Northern Metropolitan   \n",
      "2     1900.0        Yarra  -37.8093    144.9944  Northern Metropolitan   \n",
      "3        NaN        Yarra  -37.7969    144.9969  Northern Metropolitan   \n",
      "4     2014.0        Yarra  -37.8072    144.9941  Northern Metropolitan   \n",
      "\n",
      "  Propertycount  \n",
      "0        4019.0  \n",
      "1        4019.0  \n",
      "2        4019.0  \n",
      "3        4019.0  \n",
      "4        4019.0  \n",
      "\n",
      "[5 rows x 21 columns]\n"
     ]
    }
   ],
   "source": [
    "import pandas as pd\n",
    "import numpy as np\n",
    "import matplotlib.pyplot as plt\n",
    "import seaborn as sns\n",
    "\n",
    "# a) Load the dataset\n",
    "df = pd.read_csv(\"C:/Users/sahaj/Downloads/property.csv\")\n",
    "\n",
    "# b) Inspect the first few rows of the dataset\n",
    "print(df.head())"
   ]
  },
  {
   "cell_type": "code",
   "execution_count": 20,
   "id": "7f70d173",
   "metadata": {},
   "outputs": [
    {
     "name": "stdout",
     "output_type": "stream",
     "text": [
      "<class 'pandas.core.frame.DataFrame'>\n",
      "RangeIndex: 13580 entries, 0 to 13579\n",
      "Data columns (total 21 columns):\n",
      " #   Column         Non-Null Count  Dtype  \n",
      "---  ------         --------------  -----  \n",
      " 0   Suburb         13580 non-null  object \n",
      " 1   Address        13580 non-null  object \n",
      " 2   Rooms          13580 non-null  int64  \n",
      " 3   Type           13580 non-null  object \n",
      " 4   Price          13580 non-null  float64\n",
      " 5   Method         13580 non-null  object \n",
      " 6   SellerG        13580 non-null  object \n",
      " 7   Date           13580 non-null  object \n",
      " 8   Distance       13580 non-null  float64\n",
      " 9   Postcode       13580 non-null  float64\n",
      " 10  Bedroom2       13580 non-null  float64\n",
      " 11  Bathroom       13580 non-null  float64\n",
      " 12  Car            13518 non-null  float64\n",
      " 13  Landsize       13580 non-null  float64\n",
      " 14  BuildingArea   7130 non-null   float64\n",
      " 15  YearBuilt      8205 non-null   float64\n",
      " 16  CouncilArea    12211 non-null  object \n",
      " 17  Lattitude      13580 non-null  float64\n",
      " 18  Longtitude     13580 non-null  float64\n",
      " 19  Regionname     13580 non-null  object \n",
      " 20  Propertycount  13580 non-null  float64\n",
      "dtypes: float64(12), int64(1), object(8)\n",
      "memory usage: 2.2+ MB\n",
      "None\n"
     ]
    }
   ],
   "source": [
    "# Check the structure of the dataset\n",
    "print(df.info())"
   ]
  },
  {
   "cell_type": "markdown",
   "id": "e868b928",
   "metadata": {},
   "source": [
    "1. For the suburb Altona, it is postulated that a typical property sells for $800,000. Use the data at hand to test this assumption. Is the typical property price really $800,000 or has it increased? Use a significance level of 5%. "
   ]
  },
  {
   "cell_type": "raw",
   "id": "a7a150f2",
   "metadata": {},
   "source": [
    "Hypothesis Testing for Altona Property Prices\n",
    "To test if the average property price in Altona is different from $800,000:"
   ]
  },
  {
   "cell_type": "code",
   "execution_count": 17,
   "id": "abcbcabc",
   "metadata": {},
   "outputs": [
    {
     "name": "stdout",
     "output_type": "stream",
     "text": [
      "Mean Price in Altona: 834830.4054054054\n",
      "T-statistic: 1.0277020770199676, P-value: 0.307483271305555\n",
      "Fail to reject the null hypothesis, the typical property price is $800,000.\n"
     ]
    }
   ],
   "source": [
    "from scipy import stats\n",
    "\n",
    "# Filter for Altona suburb\n",
    "altona_data = df[df['Suburb'] == 'Altona']\n",
    "\n",
    "# Remove missing prices\n",
    "altona_prices = altona_data['Price'].dropna()\n",
    "\n",
    "# Set the hypothesized price\n",
    "hypothesized_price = 800000\n",
    "\n",
    "# Perform one-sample t-test\n",
    "t_stat, p_value = stats.ttest_1samp(altona_prices, hypothesized_price)\n",
    "\n",
    "# Print results\n",
    "print(f\"Mean Price in Altona: {altona_prices.mean()}\")\n",
    "print(f\"T-statistic: {t_stat}, P-value: {p_value}\")\n",
    "\n",
    "# Conclusion based on p-value\n",
    "alpha = 0.05\n",
    "if p_value < alpha:\n",
    "    print(\"Reject the null hypothesis, the typical property price is different from $800,000.\")\n",
    "else:\n",
    "    print(\"Fail to reject the null hypothesis, the typical property price is $800,000.\")\n"
   ]
  },
  {
   "cell_type": "markdown",
   "id": "c4ee161d",
   "metadata": {},
   "source": [
    "Given a significance level of 5%, the p-value of 0.307483271305555 is greater than 0.05. This means we fail to reject the null hypothesis. Based on the statistical analysis, there is not enough evidence to conclude that the average property price in Altona has significantly increased from $800,000. "
   ]
  },
  {
   "cell_type": "markdown",
   "id": "6fb67eb2",
   "metadata": {},
   "source": [
    "2. For the year 2016, is there any difference in prices of properties sold in the summer months vs winter months? Consider months from October till March as winter months and the rest as summer months. Use a significance level of 5%. "
   ]
  },
  {
   "cell_type": "markdown",
   "id": "86efd70e",
   "metadata": {},
   "source": [
    "Comparison of Summer vs. Winter Property Prices (2016)"
   ]
  },
  {
   "cell_type": "code",
   "execution_count": 21,
   "id": "9f6d838c",
   "metadata": {},
   "outputs": [
    {
     "name": "stdout",
     "output_type": "stream",
     "text": [
      "Mean Summer Price: 1048054.7286917741\n",
      "Mean Winter Price: 1116647.5917391304\n",
      "T-statistic: -4.043386317851058, P-value: 5.3309767667631686e-05\n",
      "There is a significant difference in property prices between summer and winter in 2016.\n"
     ]
    }
   ],
   "source": [
    "# Convert Date to datetime\n",
    "df['Date'] = pd.to_datetime(df['Date'], format='%d/%m/%Y')\n",
    "\n",
    "# Filter data for the year 2016\n",
    "year_2016_data = df[df['Date'].dt.year == 2016]\n",
    "\n",
    "# Define summer and winter months\n",
    "summer_months = [4, 5, 6, 7, 8, 9]\n",
    "winter_months = [10, 11, 12, 1, 2, 3]\n",
    "\n",
    "# Filter data for summer and winter months\n",
    "summer_data = year_2016_data[year_2016_data['Date'].dt.month.isin(summer_months)]\n",
    "winter_data = year_2016_data[year_2016_data['Date'].dt.month.isin(winter_months)]\n",
    "\n",
    "# Perform a two-sample t-test\n",
    "t_stat, p_value = stats.ttest_ind(summer_data['Price'].dropna(), winter_data['Price'].dropna())\n",
    "\n",
    "# Print results\n",
    "print(f\"Mean Summer Price: {summer_data['Price'].mean()}\")\n",
    "print(f\"Mean Winter Price: {winter_data['Price'].mean()}\")\n",
    "print(f\"T-statistic: {t_stat}, P-value: {p_value}\")\n",
    "\n",
    "# Conclusion\n",
    "if p_value < alpha:\n",
    "    print(\"There is a significant difference in property prices between summer and winter in 2016.\")\n",
    "else:\n",
    "    print(\"There is no significant difference in property prices between summer and winter in 2016.\")\n"
   ]
  },
  {
   "cell_type": "markdown",
   "id": "98a32ca7",
   "metadata": {},
   "source": [
    "Given a significance level of 5%, the p-value of 5.3309767667631686e-05 is less than 0.05. This means we reject the null hypothesis.Based on the statistical analysis, there is a significant difference in property prices between summer and winter months in 2016"
   ]
  },
  {
   "cell_type": "markdown",
   "id": "6aee266e",
   "metadata": {},
   "source": [
    "3. For the suburb Abbotsford, what is the probability that out of 10 properties sold, 3 will not have car parking? Use the column car in the dataset. Round off your answer to 3 decimal places. \n",
    "Probability of No Car Parking in Abbotsford"
   ]
  },
  {
   "cell_type": "code",
   "execution_count": 22,
   "id": "85a2b5c7",
   "metadata": {},
   "outputs": [
    {
     "name": "stdout",
     "output_type": "stream",
     "text": [
      "Probability that 3 out of 10 properties will not have car parking: 0.260\n"
     ]
    }
   ],
   "source": [
    "# Filter for Abbotsford suburb\n",
    "abbotsford_data = df[df['Suburb'] == 'Abbotsford']\n",
    "\n",
    "# Calculate probability of no car parking\n",
    "no_car_parking_prob = len(abbotsford_data[abbotsford_data['Car'] == 0]) / len(abbotsford_data)\n",
    "\n",
    "# Binomial probability for 3 out of 10 properties not having car parking\n",
    "n = 10\n",
    "k = 3\n",
    "binom_prob = stats.binom.pmf(k, n, no_car_parking_prob)\n",
    "\n",
    "print(f\"Probability that 3 out of 10 properties will not have car parking: {binom_prob:.3f}\")\n"
   ]
  },
  {
   "cell_type": "code",
   "execution_count": null,
   "id": "f1730a78",
   "metadata": {},
   "outputs": [],
   "source": [
    "4. In the suburb Abbotsford, what are the chances of finding a property with 3 rooms? Round your answer to 3 decimal places. \n",
    "Probability of Finding a Property with 3 Rooms in Abbotsford"
   ]
  },
  {
   "cell_type": "code",
   "execution_count": 23,
   "id": "6869e272",
   "metadata": {},
   "outputs": [
    {
     "name": "stdout",
     "output_type": "stream",
     "text": [
      "Probability of finding a property with 3 rooms: 0.357\n"
     ]
    }
   ],
   "source": [
    "# Calculate probability of finding a property with 3 rooms\n",
    "rooms_3_prob = len(abbotsford_data[abbotsford_data['Rooms'] == 3]) / len(abbotsford_data)\n",
    "\n",
    "print(f\"Probability of finding a property with 3 rooms: {rooms_3_prob:.3f}\")\n"
   ]
  },
  {
   "cell_type": "markdown",
   "id": "e1566a05",
   "metadata": {},
   "source": [
    "5.In the suburb Abbotsford, what are the chances of finding a property with 2 bathrooms? Round your answer to 3 decimal places. "
   ]
  },
  {
   "cell_type": "markdown",
   "id": "b4ce666a",
   "metadata": {},
   "source": [
    " Probability of Finding a Property with 2 Bathrooms in Abbotsford"
   ]
  },
  {
   "cell_type": "code",
   "execution_count": 24,
   "id": "76e51fe7",
   "metadata": {},
   "outputs": [
    {
     "name": "stdout",
     "output_type": "stream",
     "text": [
      "Probability of finding a property with 2 bathrooms: 0.339\n"
     ]
    }
   ],
   "source": [
    "# Calculate probability of finding a property with 2 bathrooms\n",
    "bathrooms_2_prob = len(abbotsford_data[abbotsford_data['Bathroom'] == 2]) / len(abbotsford_data)\n",
    "\n",
    "print(f\"Probability of finding a property with 2 bathrooms: {bathrooms_2_prob:.3f}\")\n"
   ]
  }
 ],
 "metadata": {
  "kernelspec": {
   "display_name": "Python 3 (ipykernel)",
   "language": "python",
   "name": "python3"
  },
  "language_info": {
   "codemirror_mode": {
    "name": "ipython",
    "version": 3
   },
   "file_extension": ".py",
   "mimetype": "text/x-python",
   "name": "python",
   "nbconvert_exporter": "python",
   "pygments_lexer": "ipython3",
   "version": "3.11.5"
  }
 },
 "nbformat": 4,
 "nbformat_minor": 5
}
